{
 "cells": [
  {
   "cell_type": "markdown",
   "metadata": {},
   "source": [
    "# Scenemixer\n",
    "Tool for combining two photographs into a composite image (center + surrounding)."
   ]
  },
  {
   "cell_type": "code",
   "execution_count": null,
   "metadata": {
    "collapsed": false
   },
   "outputs": [],
   "source": [
    "from __future__ import division\n",
    "import numpy as np\n",
    "from skimage import io, transform, filters, color\n",
    "from skimage import img_as_uint, img_as_float\n",
    "from tools import *\n",
    "%matplotlib inline"
   ]
  },
  {
   "cell_type": "markdown",
   "metadata": {},
   "source": [
    "### Settings"
   ]
  },
  {
   "cell_type": "code",
   "execution_count": null,
   "metadata": {
    "collapsed": true
   },
   "outputs": [],
   "source": [
    "image_folder = \"./images/\"  # must end with /\n",
    "# filenames in []\n",
    "image_in     = [\"lapland.jpeg\", \"sarka.jpeg\", \"helsinki.jpeg\"]  \n",
    "image_in     = [\"MM4.jpg\"]  \n",
    "                                                \n",
    "image_out    = image_in     # use the same as image_in\n",
    "new_size     = (1024, 1024) # in pixels (width, height)\n",
    "radius       = 248          # radius of central/inside area\n",
    "radius_out   = 2 * radius\n",
    "ring_width   = 20\n",
    "ring_colour  = (128, 128, 128)"
   ]
  },
  {
   "cell_type": "markdown",
   "metadata": {},
   "source": [
    "### New approach\n",
    "Define image files as list in `images`. For each file `some.jpg`, the block will produce two files `in_some.jpg` and `out_some.jpg` with either inside or outside block."
   ]
  },
  {
   "cell_type": "code",
   "execution_count": null,
   "metadata": {
    "collapsed": true
   },
   "outputs": [],
   "source": [
    "# external ring, inside only and outside only\n",
    "images  = [\"MM4.jpg\", \"sarka.jpeg\"] # <= specify list here\n",
    "\n",
    "# keep as it is\n",
    "fn = [\"%s%s\" % (image_folder, i) for i in images]\n",
    "fn_gray = \"%s%s\" % (image_folder, \"gray.png\")\n",
    "\n",
    "img  = [crop_and_resize_image(\n",
    "        img_as_float(io.imread(i)), new_size, grayscale = True) for i in fn]\n",
    "gray = crop_and_resize_image(img_as_float(io.imread(fn_gray)), new_size, grayscale=True)\n",
    "_, ring = make_ring_for_image(img_in[0], radius = radius, width50 = ring_width, colour = ring_colour)\n",
    "_, ring_out = make_ring_for_image(img_in[0], radius = radius_out, width50 = ring_width, colour = ring_colour)\n",
    "\n",
    "for ii in np.arange(len(img)):\n",
    "    print \"image: %d %s\" % (ii, images[ii])\n",
    "    fni  = \"output/in_%s\" % images[ii]\n",
    "    im1  = combine_images(img[ii], gray, radius)\n",
    "    im = combine_images(im1, gray, radius_out)\n",
    "    if ring_width == 0:\n",
    "        imf = im\n",
    "    else:\n",
    "        imf = add_ring(im, ring)\n",
    "        imf = add_ring(imf, ring_out)            \n",
    "    io.imsave(fni, imf)\n",
    "    # and out\n",
    "    fno  = \"output/out_%s\" % images[ii]\n",
    "    im1  = combine_images(gray, img[ii], radius)\n",
    "    im = combine_images(im1, gray, radius_out)\n",
    "    if ring_width == 0:\n",
    "        imf = im\n",
    "    else:\n",
    "        imf = add_ring(im, ring)\n",
    "        imf = add_ring(imf, ring_out)            \n",
    "    io.imsave(fno, imf)\n",
    "    "
   ]
  },
  {
   "cell_type": "markdown",
   "metadata": {},
   "source": [
    "### Original approach\n",
    "With two image lists, producing all possible combinations. Discards original file names, resulting images are called e.g. `001_002.jpeg`."
   ]
  },
  {
   "cell_type": "code",
   "execution_count": null,
   "metadata": {
    "collapsed": false
   },
   "outputs": [],
   "source": [
    "# original (without external circle)\n",
    "fn_in  = [\"%s%s\" % (image_folder, i) for i in image_in]\n",
    "fn_out = [\"%s%s\" % (image_folder, i) for i in image_out]\n",
    "\n",
    "img_in  = [crop_and_resize_image(\n",
    "        img_as_float(io.imread(i)), new_size, grayscale = True) for i in fn_in]\n",
    "img_out = [crop_and_resize_image(\n",
    "        img_as_float(io.imread(i)), new_size, grayscale = True) for i in fn_out]\n",
    "_, ring    = make_ring_for_image(img_in[0], radius = radius, width50 = ring_width, colour = ring_colour)\n",
    "\n",
    "for iin in np.arange(len(image_in)):\n",
    "    for iout in np.arange(len(image_out)):\n",
    "        fn  = \"output/%03d_%03d.jpeg\" % (iin, iout)\n",
    "        im  = combine_images(img_in[iin], img_out[iout], radius)\n",
    "        if ring_width == 0:\n",
    "            imf = im\n",
    "        else:\n",
    "            imf = add_ring(im, ring)\n",
    "        io.imsave(fn, imf)\n",
    "    "
   ]
  },
  {
   "cell_type": "code",
   "execution_count": null,
   "metadata": {
    "collapsed": false
   },
   "outputs": [],
   "source": [
    "# same as original, but with external ring\n",
    "fn_gray = \"%s%s\" % (image_folder, \"gray.png\")\n",
    "fn_in  = [\"%s%s\" % (image_folder, i) for i in image_in]\n",
    "fn_out = [\"%s%s\" % (image_folder, i) for i in image_out]\n",
    "\n",
    "img_in  = [crop_and_resize_image(\n",
    "        img_as_float(io.imread(i)), new_size, grayscale = True) for i in fn_in]\n",
    "img_out = [crop_and_resize_image(\n",
    "        img_as_float(io.imread(i)), new_size, grayscale = True) for i in fn_out]\n",
    "gray = crop_and_resize_image(img_as_float(io.imread(fn_gray)), new_size, grayscale=True)\n",
    "_, ring = make_ring_for_image(img_in[0], radius = radius, width50 = ring_width, colour = ring_colour)\n",
    "_, ring_out = make_ring_for_image(img_in[0], radius = radius_out, width50 = ring_width, colour = ring_colour)\n",
    "\n",
    "for iin in np.arange(len(img_in)):\n",
    "    for iout in np.arange(len(img_out)):\n",
    "        print \"im %d %d\" % (iin, iout)\n",
    "        fn  = \"output/%03d_%03d.jpeg\" % (iin, iout)\n",
    "        im1  = combine_images(img_in[iin], img_out[iout], radius)\n",
    "        im = combine_images(im1, gray, radius_out)\n",
    "        if ring_width == 0:\n",
    "            imf = im\n",
    "        else:\n",
    "            imf = add_ring(im, ring)\n",
    "            imf = add_ring(imf, ring_out)            \n",
    "        io.imsave(fn, imf)\n",
    "    "
   ]
  },
  {
   "cell_type": "code",
   "execution_count": null,
   "metadata": {
    "collapsed": true
   },
   "outputs": [],
   "source": []
  }
 ],
 "metadata": {
  "kernelspec": {
   "display_name": "Python 2",
   "language": "python",
   "name": "python2"
  },
  "language_info": {
   "codemirror_mode": {
    "name": "ipython",
    "version": 2
   },
   "file_extension": ".py",
   "mimetype": "text/x-python",
   "name": "python",
   "nbconvert_exporter": "python",
   "pygments_lexer": "ipython2",
   "version": "2.7.11"
  }
 },
 "nbformat": 4,
 "nbformat_minor": 0
}
