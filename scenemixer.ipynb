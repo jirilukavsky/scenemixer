{
 "cells": [
  {
   "cell_type": "markdown",
   "metadata": {},
   "source": [
    "# Scenemixer\n",
    "Tool for combining two photographs into a composite image (center + surrounding)."
   ]
  },
  {
   "cell_type": "code",
   "execution_count": 1,
   "metadata": {
    "collapsed": true
   },
   "outputs": [],
   "source": [
    "from __future__ import division\n",
    "import numpy as np\n",
    "import cv2\n",
    "import matplotlib.pyplot as plt\n",
    "import matplotlib.cm as cm\n",
    "from tools import *\n",
    "%matplotlib inline"
   ]
  },
  {
   "cell_type": "markdown",
   "metadata": {},
   "source": [
    "### Settings"
   ]
  },
  {
   "cell_type": "code",
   "execution_count": 2,
   "metadata": {
    "collapsed": true
   },
   "outputs": [],
   "source": [
    "image_folder = \"./images/\"  # must end with /\n",
    "# filenames in []\n",
    "image_in     = [\"lapland.jpeg\", \"sarka.jpeg\", \"helsinki.jpeg\"]  \n",
    "                                                \n",
    "image_out    = image_in     # use the same as image_in\n",
    "new_size     = (1024, 1024) # in pixels (width, height)\n",
    "radius       = 400          # radius of central/inside area\n",
    "ring_width   = 70\n",
    "ring_colour  = (128, 128, 128)\n",
    "blur         = 25"
   ]
  },
  {
   "cell_type": "code",
   "execution_count": 3,
   "metadata": {
    "collapsed": false
   },
   "outputs": [],
   "source": [
    "fn_in  = [\"%s%s\" % (image_folder, i) for i in image_in]\n",
    "fn_out = [\"%s%s\" % (image_folder, i) for i in image_out]\n",
    "\n",
    "img_in  = [crop_and_resize_image(\n",
    "        cv2.imread(i, cv2.CV_LOAD_IMAGE_COLOR), new_size, grayscale = True) for i in fn_in]\n",
    "img_out = [crop_and_resize_image(\n",
    "        cv2.imread(i, cv2.CV_LOAD_IMAGE_COLOR), new_size, grayscale = True) for i in fn_out]\n",
    "ring    = add_ring(img_in[0], radius, width = ring_width, colour = ring_colour, blur = blur)\n",
    "alpha   = ring[:,:,3]\n",
    "alpha   = alpha.reshape((alpha.shape[0], alpha.shape[1], 1)) / 255.\n",
    "\n",
    "\n",
    "for iin in np.arange(len(image_in)):\n",
    "    for iout in np.arange(len(image_out)):\n",
    "        fn  = \"output/%03d_%03d.jpeg\" % (iin, iout)\n",
    "        im  = combine_images(img_in[iin], img_out[iout], radius)\n",
    "        if ring_width == 0:\n",
    "            imf = im\n",
    "        else:\n",
    "            imf = im[:,:,:3] * (1 - alpha) + ring[:,:,:3] * alpha + 0\n",
    "        cv2.imwrite(fn, imf)\n",
    "    "
   ]
  },
  {
   "cell_type": "code",
   "execution_count": null,
   "metadata": {
    "collapsed": true
   },
   "outputs": [],
   "source": []
  }
 ],
 "metadata": {
  "kernelspec": {
   "display_name": "Python 2",
   "language": "python",
   "name": "python2"
  },
  "language_info": {
   "codemirror_mode": {
    "name": "ipython",
    "version": 2
   },
   "file_extension": ".py",
   "mimetype": "text/x-python",
   "name": "python",
   "nbconvert_exporter": "python",
   "pygments_lexer": "ipython2",
   "version": "2.7.11"
  }
 },
 "nbformat": 4,
 "nbformat_minor": 0
}
