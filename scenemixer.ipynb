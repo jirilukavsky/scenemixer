{
 "cells": [
  {
   "cell_type": "markdown",
   "metadata": {},
   "source": [
    "# Scenemixer\n",
    "Tool for combining two photographs into a composite image (center + surrounding)."
   ]
  },
  {
   "cell_type": "code",
   "execution_count": 1,
   "metadata": {
    "collapsed": false
   },
   "outputs": [],
   "source": [
    "from __future__ import division\n",
    "import numpy as np\n",
    "from skimage import io, transform, filters, color\n",
    "from skimage import img_as_uint, img_as_float\n",
    "from tools import *\n",
    "%matplotlib inline"
   ]
  },
  {
   "cell_type": "markdown",
   "metadata": {},
   "source": [
    "### Settings"
   ]
  },
  {
   "cell_type": "code",
   "execution_count": null,
   "metadata": {
    "collapsed": true
   },
   "outputs": [],
   "source": [
    "crop_and_resize_image"
   ]
  },
  {
   "cell_type": "code",
   "execution_count": 2,
   "metadata": {
    "collapsed": true
   },
   "outputs": [],
   "source": [
    "image_folder = \"./images/\"  # must end with /\n",
    "# filenames in []\n",
    "image_in     = [\"lapland.jpeg\", \"sarka.jpeg\", \"helsinki.jpeg\"]  \n",
    "                                                \n",
    "image_out    = image_in     # use the same as image_in\n",
    "new_size     = (1024, 1024) # in pixels (width, height)\n",
    "radius       = 400          # radius of central/inside area\n",
    "ring_width   = 40\n",
    "ring_colour  = (128, 128, 128)"
   ]
  },
  {
   "cell_type": "code",
   "execution_count": 3,
   "metadata": {
    "collapsed": false
   },
   "outputs": [
    {
     "name": "stderr",
     "output_type": "stream",
     "text": [
      "/Users/jiri/anaconda/lib/python2.7/site-packages/skimage/util/dtype.py:110: UserWarning: Possible precision loss when converting from float64 to uint8\n",
      "  \"%s to %s\" % (dtypeobj_in, dtypeobj))\n"
     ]
    }
   ],
   "source": [
    "fn_in  = [\"%s%s\" % (image_folder, i) for i in image_in]\n",
    "fn_out = [\"%s%s\" % (image_folder, i) for i in image_out]\n",
    "\n",
    "img_in  = [crop_and_resize_image(\n",
    "        img_as_float(io.imread(i)), new_size, grayscale = True) for i in fn_in]\n",
    "img_out = [crop_and_resize_image(\n",
    "        img_as_float(io.imread(i)), new_size, grayscale = True) for i in fn_out]\n",
    "_, ring    = make_ring_for_image(img_in[0], radius = radius, width50 = ring_width, colour = ring_colour)\n",
    "\n",
    "for iin in np.arange(len(image_in)):\n",
    "    for iout in np.arange(len(image_out)):\n",
    "        fn  = \"output/%03d_%03d.jpeg\" % (iin, iout)\n",
    "        im  = combine_images(img_in[iin], img_out[iout], radius)\n",
    "        if ring_width == 0:\n",
    "            imf = im\n",
    "        else:\n",
    "            imf = add_ring(im, ring)\n",
    "        io.imsave(fn, imf)\n",
    "    "
   ]
  },
  {
   "cell_type": "code",
   "execution_count": null,
   "metadata": {
    "collapsed": true
   },
   "outputs": [],
   "source": []
  }
 ],
 "metadata": {
  "kernelspec": {
   "display_name": "Python 2",
   "language": "python",
   "name": "python2"
  },
  "language_info": {
   "codemirror_mode": {
    "name": "ipython",
    "version": 2
   },
   "file_extension": ".py",
   "mimetype": "text/x-python",
   "name": "python",
   "nbconvert_exporter": "python",
   "pygments_lexer": "ipython2",
   "version": "2.7.11"
  }
 },
 "nbformat": 4,
 "nbformat_minor": 0
}
