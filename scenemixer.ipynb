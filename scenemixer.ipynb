{
 "cells": [
  {
   "cell_type": "markdown",
   "metadata": {},
   "source": [
    "# Scenemixer\n",
    "Tool for combining two photographs into a composite image (center + surrounding)."
   ]
  },
  {
   "cell_type": "code",
   "execution_count": 1,
   "metadata": {
    "collapsed": false
   },
   "outputs": [],
   "source": [
    "from __future__ import division\n",
    "import numpy as np\n",
    "from skimage import io, transform, filters, color\n",
    "from skimage import img_as_uint, img_as_float\n",
    "from tools import *\n",
    "%matplotlib inline"
   ]
  },
  {
   "cell_type": "markdown",
   "metadata": {},
   "source": [
    "### Settings\n",
    "Check file extensions: `.jpg` differs from `.jpeg` and differ from `.JPG` (in some operating systems)"
   ]
  },
  {
   "cell_type": "code",
   "execution_count": 2,
   "metadata": {
    "collapsed": true
   },
   "outputs": [],
   "source": [
    "image_folder = \"./images2/\"  # must end with /\n",
    "# filenames in []\n",
    "image_in     = [\"lapland.jpeg\", \"sarka.jpeg\", \"helsinki.jpeg\"]  \n",
    "image_in     = [\n",
    "\"MH1.jpg\", \"MH2.jpg\", \"MH3.jpg\", \"MH4.jpg\", \"MH5.jpg\", \"MM1.jpg\", \"MM2.jpg\", \"MM3.jpg\", \"MM4.jpg\", \"MM5.jpg\", \n",
    "\"MP1.jpg\", \"MP2.jpg\", \"MP3.jpg\", \"MP4.jpg\", \"MP5.jpg\", \"MS1.jpg\", \"MS2.jpg\", \"MS3.jpg\", \"MS4.jpg\", \"MS5.jpg\", \n",
    "\"MT1.jpg\", \"MT2.jpg\", \"MT3.jpg\", \"MT4.jpg\", \"MT5.jpg\", \"NB1.jpg\", \"NB2.jpg\", \"NB3.jpg\", \"NB4.jpg\", \"NB5.jpg\", \n",
    "\"ND1.jpg\", \"ND2.jpg\", \"ND3.jpg\", \"ND4.jpg\", \"ND5.jpg\", \"NF1.jpg\", \"NF2.jpg\", \"NF3.jpg\", \"NF4.jpg\", \"NF5.jpg\", \n",
    "\"NM1.jpg\", \"NM2.jpg\", \"NM3.jpg\", \"NM4.jpg\", \"NM5.jpg\", \"NR1.jpg\", \"NR2.jpg\", \"NR3.jpg\", \"NR4.jpg\", \"NR5.jpg\"\n",
    "]\n",
    "                                                \n",
    "image_out    = image_in     # use the same as image_in\n",
    "new_size     = (1024, 1024) # in pixels (width, height)\n",
    "radius       = 248          # radius of central/inside area\n",
    "radius_out   = 2 * radius\n",
    "ring_width   = 20\n",
    "ring_colour  = (128, 128, 128)"
   ]
  },
  {
   "cell_type": "markdown",
   "metadata": {},
   "source": [
    "### New approach\n",
    "Define image files as list in `images`. For each file `some.jpg`, the block will produce two files `in_some.jpg` and `out_some.jpg` with either inside or outside block."
   ]
  },
  {
   "cell_type": "code",
   "execution_count": 3,
   "metadata": {
    "collapsed": false
   },
   "outputs": [
    {
     "name": "stdout",
     "output_type": "stream",
     "text": [
      "image: 0 MH1.jpg\n"
     ]
    },
    {
     "name": "stderr",
     "output_type": "stream",
     "text": [
      "/Users/jiri/.conda/envs/npsi/lib/python2.7/site-packages/skimage/util/dtype.py:110: UserWarning: Possible precision loss when converting from float64 to uint8\n",
      "  \"%s to %s\" % (dtypeobj_in, dtypeobj))\n"
     ]
    },
    {
     "name": "stdout",
     "output_type": "stream",
     "text": [
      "image: 1 MH2.jpg\n",
      "image: 2 MH3.jpg\n",
      "image: 3 MH4.jpg\n",
      "image: 4 MH5.jpg\n",
      "image: 5 MM1.jpg\n",
      "image: 6 MM2.jpg\n",
      "image: 7 MM3.jpg\n",
      "image: 8 MM4.jpg\n",
      "image: 9 MM5.jpg\n",
      "image: 10 MP1.jpg\n",
      "image: 11 MP2.jpg\n",
      "image: 12 MP3.jpg\n",
      "image: 13 MP4.jpg\n",
      "image: 14 MP5.jpg\n",
      "image: 15 MS1.jpg\n",
      "image: 16 MS2.jpg\n",
      "image: 17 MS3.jpg\n",
      "image: 18 MS4.jpg\n",
      "image: 19 MS5.jpg\n",
      "image: 20 MT1.jpg\n",
      "image: 21 MT2.jpg\n",
      "image: 22 MT3.jpg\n",
      "image: 23 MT4.jpg\n",
      "image: 24 MT5.jpg\n",
      "image: 25 NB1.jpg\n",
      "image: 26 NB2.jpg\n",
      "image: 27 NB3.jpg\n",
      "image: 28 NB4.jpg\n",
      "image: 29 NB5.jpg\n",
      "image: 30 ND1.jpg\n",
      "image: 31 ND2.jpg\n",
      "image: 32 ND3.jpg\n",
      "image: 33 ND4.jpg\n",
      "image: 34 ND5.jpg\n",
      "image: 35 NF1.jpg\n",
      "image: 36 NF2.jpg\n",
      "image: 37 NF3.jpg\n",
      "image: 38 NF4.jpg\n",
      "image: 39 NF5.jpg\n",
      "image: 40 NM1.jpg\n",
      "image: 41 NM2.jpg\n",
      "image: 42 NM3.jpg\n",
      "image: 43 NM4.jpg\n",
      "image: 44 NM5.jpg\n",
      "image: 45 NR1.jpg\n",
      "image: 46 NR2.jpg\n",
      "image: 47 NR3.jpg\n",
      "image: 48 NR4.jpg\n",
      "image: 49 NR5.jpg\n"
     ]
    }
   ],
   "source": [
    "# external ring, inside only and outside only\n",
    "images  = image_in # <= specify list here\n",
    "\n",
    "# keep as it is\n",
    "fn = [\"%s%s\" % (image_folder, i) for i in images]\n",
    "fn_gray = \"%s%s\" % (image_folder, \"gray.png\")\n",
    "\n",
    "img = []\n",
    "for i in fn:\n",
    "    im = io.imread(i)\n",
    "    if im.dtype == \"O\":\n",
    "        im = im[0]  # ugly hack to overcome old PIL library, pillow should be used http://stackoverflow.com/questions/24089337/skimage-simple-imread-of-image-return-strange-output \n",
    "    cropped = crop_and_resize_image(img_as_float(im), new_size, grayscale=True)\n",
    "    img.extend([cropped])\n",
    "gray = crop_and_resize_image(img_as_float(io.imread(fn_gray)), new_size, grayscale=True)\n",
    "_, ring = make_ring_for_image(img[0], radius = radius, width50 = ring_width, colour = ring_colour)\n",
    "_, ring_out = make_ring_for_image(img[0], radius = radius_out, width50 = ring_width, colour = ring_colour)\n",
    "\n",
    "for ii in np.arange(len(img)):\n",
    "    print \"image: %d %s\" % (ii, images[ii])\n",
    "    fni  = \"output/in_%s\" % images[ii]\n",
    "    im1  = combine_images(img[ii], gray, radius)\n",
    "    im = combine_images(im1, gray, radius_out)\n",
    "    if ring_width == 0:\n",
    "        imf = im\n",
    "    else:\n",
    "        imf = add_ring(im, ring)\n",
    "        imf = add_ring(imf, ring_out)            \n",
    "    io.imsave(fni, imf)\n",
    "    # and out\n",
    "    fno  = \"output/out_%s\" % images[ii]\n",
    "    im1  = combine_images(gray, img[ii], radius)\n",
    "    im = combine_images(im1, gray, radius_out)\n",
    "    if ring_width == 0:\n",
    "        imf = im\n",
    "    else:\n",
    "        imf = add_ring(im, ring)\n",
    "        imf = add_ring(imf, ring_out)            \n",
    "    io.imsave(fno, imf)\n",
    "    "
   ]
  },
  {
   "cell_type": "markdown",
   "metadata": {},
   "source": [
    "# Finished\n"
   ]
  },
  {
   "cell_type": "code",
   "execution_count": null,
   "metadata": {
    "collapsed": true
   },
   "outputs": [],
   "source": []
  },
  {
   "cell_type": "markdown",
   "metadata": {},
   "source": [
    "### Original approach\n",
    "With two image lists, producing all possible combinations. Discards original file names, resulting images are called e.g. `001_002.jpeg`."
   ]
  },
  {
   "cell_type": "code",
   "execution_count": null,
   "metadata": {
    "collapsed": false
   },
   "outputs": [],
   "source": [
    "# original (without external circle)\n",
    "fn_in  = [\"%s%s\" % (image_folder, i) for i in image_in]\n",
    "fn_out = [\"%s%s\" % (image_folder, i) for i in image_out]\n",
    "\n",
    "img_in  = [crop_and_resize_image(\n",
    "        img_as_float(io.imread(i)), new_size, grayscale = True) for i in fn_in]\n",
    "img_out = [crop_and_resize_image(\n",
    "        img_as_float(io.imread(i)), new_size, grayscale = True) for i in fn_out]\n",
    "_, ring    = make_ring_for_image(img_in[0], radius = radius, width50 = ring_width, colour = ring_colour)\n",
    "\n",
    "for iin in np.arange(len(image_in)):\n",
    "    for iout in np.arange(len(image_out)):\n",
    "        fn  = \"output/%03d_%03d.jpeg\" % (iin, iout)\n",
    "        im  = combine_images(img_in[iin], img_out[iout], radius)\n",
    "        if ring_width == 0:\n",
    "            imf = im\n",
    "        else:\n",
    "            imf = add_ring(im, ring)\n",
    "        io.imsave(fn, imf)\n",
    "    "
   ]
  },
  {
   "cell_type": "code",
   "execution_count": null,
   "metadata": {
    "collapsed": false
   },
   "outputs": [],
   "source": [
    "# same as original, but with external ring\n",
    "fn_gray = \"%s%s\" % (image_folder, \"gray.png\")\n",
    "fn_in  = [\"%s%s\" % (image_folder, i) for i in image_in]\n",
    "fn_out = [\"%s%s\" % (image_folder, i) for i in image_out]\n",
    "\n",
    "img_in  = [crop_and_resize_image(\n",
    "        img_as_float(io.imread(i)), new_size, grayscale = True) for i in fn_in]\n",
    "img_out = [crop_and_resize_image(\n",
    "        img_as_float(io.imread(i)), new_size, grayscale = True) for i in fn_out]\n",
    "gray = crop_and_resize_image(img_as_float(io.imread(fn_gray)), new_size, grayscale=True)\n",
    "_, ring = make_ring_for_image(img_in[0], radius = radius, width50 = ring_width, colour = ring_colour)\n",
    "_, ring_out = make_ring_for_image(img_in[0], radius = radius_out, width50 = ring_width, colour = ring_colour)\n",
    "\n",
    "for iin in np.arange(len(img_in)):\n",
    "    for iout in np.arange(len(img_out)):\n",
    "        print \"im %d %d\" % (iin, iout)\n",
    "        fn  = \"output/%03d_%03d.jpeg\" % (iin, iout)\n",
    "        im1  = combine_images(img_in[iin], img_out[iout], radius)\n",
    "        im = combine_images(im1, gray, radius_out)\n",
    "        if ring_width == 0:\n",
    "            imf = im\n",
    "        else:\n",
    "            imf = add_ring(im, ring)\n",
    "            imf = add_ring(imf, ring_out)            \n",
    "        io.imsave(fn, imf)\n",
    "    "
   ]
  },
  {
   "cell_type": "code",
   "execution_count": null,
   "metadata": {
    "collapsed": true
   },
   "outputs": [],
   "source": []
  }
 ],
 "metadata": {
  "anaconda-cloud": {},
  "kernelspec": {
   "display_name": "Python [Root]",
   "language": "python",
   "name": "Python [Root]"
  },
  "language_info": {
   "codemirror_mode": {
    "name": "ipython",
    "version": 2
   },
   "file_extension": ".py",
   "mimetype": "text/x-python",
   "name": "python",
   "nbconvert_exporter": "python",
   "pygments_lexer": "ipython2",
   "version": "2.7.12"
  }
 },
 "nbformat": 4,
 "nbformat_minor": 0
}
