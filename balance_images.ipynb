{
 "cells": [
  {
   "cell_type": "markdown",
   "metadata": {},
   "source": [
    "# Adjust image properties"
   ]
  },
  {
   "cell_type": "code",
   "execution_count": 34,
   "metadata": {
    "collapsed": true
   },
   "outputs": [],
   "source": [
    "from __future__ import division\n",
    "import numpy as np\n",
    "import pandas as pd\n",
    "from skimage import io, transform, filters, color\n",
    "from skimage import img_as_uint, img_as_float\n",
    "from tools import *\n",
    "import os\n",
    "%matplotlib inline\n"
   ]
  },
  {
   "cell_type": "code",
   "execution_count": 58,
   "metadata": {
    "collapsed": true
   },
   "outputs": [],
   "source": [
    "new_size     = (1024, 1024) # in pixels (width, height)"
   ]
  },
  {
   "cell_type": "code",
   "execution_count": 31,
   "metadata": {
    "collapsed": false
   },
   "outputs": [],
   "source": [
    "def mirror_folder(src, dst, file_function=None):\n",
    "    \"\"\"Simplified version of shutil.copytree from Python 3\"\"\"\n",
    "    names = os.listdir(src)\n",
    "    os.makedirs(dst)\n",
    "    for name in names:\n",
    "        srcname = os.path.join(src, name)\n",
    "        dstname = os.path.join(dst, name)\n",
    "        if os.path.isdir(srcname):\n",
    "            mirror_folder(srcname, dstname)\n",
    "        if os.path.isfile(srcname):\n",
    "            if file_function:\n",
    "                file_function(srcname, dstname)\n",
    "    return\n",
    "\n",
    "def make_filelist(src):\n",
    "    names = os.listdir(src)\n",
    "    srclist = []\n",
    "    for name in names:\n",
    "        srcname = os.path.join(src, name)\n",
    "        if os.path.isdir(srcname):\n",
    "            s = make_filelist(srcname)\n",
    "            if s:\n",
    "                srclist = srclist + s\n",
    "        if os.path.isfile(srcname):\n",
    "            srclist.append(srcname)\n",
    "    return srclist\n",
    "\n",
    "#mirror_folder(\"/Users/jiri/Local/Sandbox/\", \"./tmp\", make_srclist=True, make_dstlist=True)\n",
    "#make_filelist(\"/Users/jiri/Local/Sandbox/\")"
   ]
  },
  {
   "cell_type": "code",
   "execution_count": 107,
   "metadata": {
    "collapsed": false
   },
   "outputs": [
    {
     "data": {
      "text/html": [
       "<div>\n",
       "<table border=\"1\" class=\"dataframe\">\n",
       "  <thead>\n",
       "    <tr style=\"text-align: right;\">\n",
       "      <th></th>\n",
       "      <th>file</th>\n",
       "      <th>file_src</th>\n",
       "    </tr>\n",
       "  </thead>\n",
       "  <tbody>\n",
       "    <tr>\n",
       "      <th>0</th>\n",
       "      <td>MH1.jpg</td>\n",
       "      <td>/Users/jiri/Local/Datasets/SceneStroop/images/...</td>\n",
       "    </tr>\n",
       "    <tr>\n",
       "      <th>1</th>\n",
       "      <td>MH2.jpg</td>\n",
       "      <td>/Users/jiri/Local/Datasets/SceneStroop/images/...</td>\n",
       "    </tr>\n",
       "    <tr>\n",
       "      <th>2</th>\n",
       "      <td>MH3.jpg</td>\n",
       "      <td>/Users/jiri/Local/Datasets/SceneStroop/images/...</td>\n",
       "    </tr>\n",
       "    <tr>\n",
       "      <th>3</th>\n",
       "      <td>MH4.jpg</td>\n",
       "      <td>/Users/jiri/Local/Datasets/SceneStroop/images/...</td>\n",
       "    </tr>\n",
       "    <tr>\n",
       "      <th>4</th>\n",
       "      <td>MH5.jpg</td>\n",
       "      <td>/Users/jiri/Local/Datasets/SceneStroop/images/...</td>\n",
       "    </tr>\n",
       "  </tbody>\n",
       "</table>\n",
       "</div>"
      ],
      "text/plain": [
       "      file                                           file_src\n",
       "0  MH1.jpg  /Users/jiri/Local/Datasets/SceneStroop/images/...\n",
       "1  MH2.jpg  /Users/jiri/Local/Datasets/SceneStroop/images/...\n",
       "2  MH3.jpg  /Users/jiri/Local/Datasets/SceneStroop/images/...\n",
       "3  MH4.jpg  /Users/jiri/Local/Datasets/SceneStroop/images/...\n",
       "4  MH5.jpg  /Users/jiri/Local/Datasets/SceneStroop/images/..."
      ]
     },
     "execution_count": 107,
     "metadata": {},
     "output_type": "execute_result"
    }
   ],
   "source": [
    "db_folder = \"/Users/jiri/Local/Datasets/SceneStroop/images/\"  # must end with /\n",
    "db_list = make_filelist(db_folder)\n",
    "db_list_stripped = [f[len(db_folder):] for f in db_list]\n",
    "db_folder_crop = os.path.join(db_folder, \"..\", \"cropped\")\n",
    "db_folder_processed = os.path.join(db_folder, \"..\", \"processed\")\n",
    "\n",
    "db_prop = pd.DataFrame({\"file\":db_list_stripped, \"file_src\":db_list})\n",
    "db_prop.head()"
   ]
  },
  {
   "cell_type": "code",
   "execution_count": 68,
   "metadata": {
    "collapsed": false
   },
   "outputs": [],
   "source": [
    "def inspect_image(fn):\n",
    "    img = img_as_float(io.imread(fn))\n",
    "    res = img.shape\n",
    "    if (len(res) == 2):\n",
    "        channels = 0\n",
    "    else:\n",
    "        channels = res[2]\n",
    "    lum = np.mean(img)\n",
    "    contrast = np.sqrt(np.sum((img - lum) ** 2) / (res[0] * res[1]))\n",
    "    info = {\"max\":np.max(img), \"min\":np.min(img), \n",
    "            \"lum\":lum, \"contrast\":contrast, \n",
    "            \"w\":res[1], \"h\":res[0], \"channels\":channels}\n",
    "    return info\n",
    "def prepare_crop_and_gray(fn_src, fn_dst, new_size=new_size):\n",
    "    im = io.imread(fn_src)\n",
    "    if im.dtype == \"O\":\n",
    "        im = im[0]  # ugly hack to overcome old PIL library, pillow should be used http://stackoverflow.com/questions/24089337/skimage-simple-imread-of-image-return-strange-output \n",
    "    cropped = crop_and_resize_image(img_as_float(im), new_size, grayscale=True)\n",
    "    io.imsave(fn_dst, cropped)\n",
    "\n",
    "#print inspect_image(db_prop[\"file_src\"][0])\n",
    "#prepare_crop_and_gray(db_prop[\"file_src\"][0], db_prop[\"file\"][0])\n",
    "#print inspect_image(db_prop[\"file\"][0])"
   ]
  },
  {
   "cell_type": "markdown",
   "metadata": {},
   "source": [
    "## Make cropped versions"
   ]
  },
  {
   "cell_type": "code",
   "execution_count": 67,
   "metadata": {
    "collapsed": false
   },
   "outputs": [],
   "source": [
    "!mkdir $db_folder_crop\n",
    "for r in range(len(db_prop)):\n",
    "    f = db_prop[\"file\"][r]\n",
    "    fn_src = os.path.join(db_folder, f)\n",
    "    fn_dst = os.path.join(db_folder_crop, f)\n",
    "    prepare_crop_and_gray(fn_src, fn_dst, new_size)\n"
   ]
  },
  {
   "cell_type": "markdown",
   "metadata": {},
   "source": [
    "## Inspect image properties"
   ]
  },
  {
   "cell_type": "code",
   "execution_count": 108,
   "metadata": {
    "collapsed": false
   },
   "outputs": [
    {
     "data": {
      "text/html": [
       "<div>\n",
       "<table border=\"1\" class=\"dataframe\">\n",
       "  <thead>\n",
       "    <tr style=\"text-align: right;\">\n",
       "      <th></th>\n",
       "      <th>file</th>\n",
       "      <th>file_src</th>\n",
       "      <th>lum</th>\n",
       "      <th>contrast</th>\n",
       "      <th>min</th>\n",
       "      <th>max</th>\n",
       "      <th>w</th>\n",
       "      <th>h</th>\n",
       "    </tr>\n",
       "  </thead>\n",
       "  <tbody>\n",
       "    <tr>\n",
       "      <th>0</th>\n",
       "      <td>MH1.jpg</td>\n",
       "      <td>/Users/jiri/Local/Datasets/SceneStroop/images/...</td>\n",
       "      <td>0.0</td>\n",
       "      <td>0.0</td>\n",
       "      <td>0.0</td>\n",
       "      <td>0.0</td>\n",
       "      <td>0</td>\n",
       "      <td>0</td>\n",
       "    </tr>\n",
       "    <tr>\n",
       "      <th>1</th>\n",
       "      <td>MH2.jpg</td>\n",
       "      <td>/Users/jiri/Local/Datasets/SceneStroop/images/...</td>\n",
       "      <td>0.0</td>\n",
       "      <td>0.0</td>\n",
       "      <td>0.0</td>\n",
       "      <td>0.0</td>\n",
       "      <td>0</td>\n",
       "      <td>0</td>\n",
       "    </tr>\n",
       "    <tr>\n",
       "      <th>2</th>\n",
       "      <td>MH3.jpg</td>\n",
       "      <td>/Users/jiri/Local/Datasets/SceneStroop/images/...</td>\n",
       "      <td>0.0</td>\n",
       "      <td>0.0</td>\n",
       "      <td>0.0</td>\n",
       "      <td>0.0</td>\n",
       "      <td>0</td>\n",
       "      <td>0</td>\n",
       "    </tr>\n",
       "    <tr>\n",
       "      <th>3</th>\n",
       "      <td>MH4.jpg</td>\n",
       "      <td>/Users/jiri/Local/Datasets/SceneStroop/images/...</td>\n",
       "      <td>0.0</td>\n",
       "      <td>0.0</td>\n",
       "      <td>0.0</td>\n",
       "      <td>0.0</td>\n",
       "      <td>0</td>\n",
       "      <td>0</td>\n",
       "    </tr>\n",
       "    <tr>\n",
       "      <th>4</th>\n",
       "      <td>MH5.jpg</td>\n",
       "      <td>/Users/jiri/Local/Datasets/SceneStroop/images/...</td>\n",
       "      <td>0.0</td>\n",
       "      <td>0.0</td>\n",
       "      <td>0.0</td>\n",
       "      <td>0.0</td>\n",
       "      <td>0</td>\n",
       "      <td>0</td>\n",
       "    </tr>\n",
       "  </tbody>\n",
       "</table>\n",
       "</div>"
      ],
      "text/plain": [
       "      file                                           file_src  lum  contrast  \\\n",
       "0  MH1.jpg  /Users/jiri/Local/Datasets/SceneStroop/images/...  0.0       0.0   \n",
       "1  MH2.jpg  /Users/jiri/Local/Datasets/SceneStroop/images/...  0.0       0.0   \n",
       "2  MH3.jpg  /Users/jiri/Local/Datasets/SceneStroop/images/...  0.0       0.0   \n",
       "3  MH4.jpg  /Users/jiri/Local/Datasets/SceneStroop/images/...  0.0       0.0   \n",
       "4  MH5.jpg  /Users/jiri/Local/Datasets/SceneStroop/images/...  0.0       0.0   \n",
       "\n",
       "   min  max  w  h  \n",
       "0  0.0  0.0  0  0  \n",
       "1  0.0  0.0  0  0  \n",
       "2  0.0  0.0  0  0  \n",
       "3  0.0  0.0  0  0  \n",
       "4  0.0  0.0  0  0  "
      ]
     },
     "execution_count": 108,
     "metadata": {},
     "output_type": "execute_result"
    }
   ],
   "source": [
    "db_prop[\"lum\"] = 0.\n",
    "db_prop[\"contrast\"] = 0.\n",
    "db_prop[\"min\"] = 0.0\n",
    "db_prop[\"max\"] = 0.0\n",
    "db_prop[\"w\"] = 0\n",
    "db_prop[\"h\"] = 0\n",
    "\n",
    "db_prop.head()"
   ]
  },
  {
   "cell_type": "code",
   "execution_count": 109,
   "metadata": {
    "collapsed": false
   },
   "outputs": [],
   "source": [
    "for r in range(len(db_prop)):\n",
    "    f = db_prop[\"file\"][r]\n",
    "    fn_src = os.path.join(db_folder_crop, f)\n",
    "    info = inspect_image(fn_src)\n",
    "    # copy only info which has its column in db\n",
    "    for col in set(info.viewkeys()).intersection(db_prop.columns):\n",
    "        db_prop.loc[r, col] = info[col]\n",
    "    "
   ]
  },
  {
   "cell_type": "code",
   "execution_count": 110,
   "metadata": {
    "collapsed": false
   },
   "outputs": [
    {
     "data": {
      "text/html": [
       "<div>\n",
       "<table border=\"1\" class=\"dataframe\">\n",
       "  <thead>\n",
       "    <tr style=\"text-align: right;\">\n",
       "      <th></th>\n",
       "      <th>file</th>\n",
       "      <th>file_src</th>\n",
       "      <th>lum</th>\n",
       "      <th>contrast</th>\n",
       "      <th>min</th>\n",
       "      <th>max</th>\n",
       "      <th>w</th>\n",
       "      <th>h</th>\n",
       "    </tr>\n",
       "  </thead>\n",
       "  <tbody>\n",
       "    <tr>\n",
       "      <th>0</th>\n",
       "      <td>MH1.jpg</td>\n",
       "      <td>/Users/jiri/Local/Datasets/SceneStroop/images/...</td>\n",
       "      <td>0.576573</td>\n",
       "      <td>0.395071</td>\n",
       "      <td>0.0</td>\n",
       "      <td>1.0</td>\n",
       "      <td>1024</td>\n",
       "      <td>1024</td>\n",
       "    </tr>\n",
       "    <tr>\n",
       "      <th>1</th>\n",
       "      <td>MH2.jpg</td>\n",
       "      <td>/Users/jiri/Local/Datasets/SceneStroop/images/...</td>\n",
       "      <td>0.594222</td>\n",
       "      <td>0.498813</td>\n",
       "      <td>0.0</td>\n",
       "      <td>1.0</td>\n",
       "      <td>1024</td>\n",
       "      <td>1024</td>\n",
       "    </tr>\n",
       "    <tr>\n",
       "      <th>2</th>\n",
       "      <td>MH3.jpg</td>\n",
       "      <td>/Users/jiri/Local/Datasets/SceneStroop/images/...</td>\n",
       "      <td>0.570087</td>\n",
       "      <td>0.441075</td>\n",
       "      <td>0.0</td>\n",
       "      <td>1.0</td>\n",
       "      <td>1024</td>\n",
       "      <td>1024</td>\n",
       "    </tr>\n",
       "    <tr>\n",
       "      <th>3</th>\n",
       "      <td>MH4.jpg</td>\n",
       "      <td>/Users/jiri/Local/Datasets/SceneStroop/images/...</td>\n",
       "      <td>0.617250</td>\n",
       "      <td>0.445272</td>\n",
       "      <td>0.0</td>\n",
       "      <td>1.0</td>\n",
       "      <td>1024</td>\n",
       "      <td>1024</td>\n",
       "    </tr>\n",
       "    <tr>\n",
       "      <th>4</th>\n",
       "      <td>MH5.jpg</td>\n",
       "      <td>/Users/jiri/Local/Datasets/SceneStroop/images/...</td>\n",
       "      <td>0.470032</td>\n",
       "      <td>0.441537</td>\n",
       "      <td>0.0</td>\n",
       "      <td>1.0</td>\n",
       "      <td>1024</td>\n",
       "      <td>1024</td>\n",
       "    </tr>\n",
       "  </tbody>\n",
       "</table>\n",
       "</div>"
      ],
      "text/plain": [
       "      file                                           file_src       lum  \\\n",
       "0  MH1.jpg  /Users/jiri/Local/Datasets/SceneStroop/images/...  0.576573   \n",
       "1  MH2.jpg  /Users/jiri/Local/Datasets/SceneStroop/images/...  0.594222   \n",
       "2  MH3.jpg  /Users/jiri/Local/Datasets/SceneStroop/images/...  0.570087   \n",
       "3  MH4.jpg  /Users/jiri/Local/Datasets/SceneStroop/images/...  0.617250   \n",
       "4  MH5.jpg  /Users/jiri/Local/Datasets/SceneStroop/images/...  0.470032   \n",
       "\n",
       "   contrast  min  max     w     h  \n",
       "0  0.395071  0.0  1.0  1024  1024  \n",
       "1  0.498813  0.0  1.0  1024  1024  \n",
       "2  0.441075  0.0  1.0  1024  1024  \n",
       "3  0.445272  0.0  1.0  1024  1024  \n",
       "4  0.441537  0.0  1.0  1024  1024  "
      ]
     },
     "execution_count": 110,
     "metadata": {},
     "output_type": "execute_result"
    }
   ],
   "source": [
    "db_prop.head()"
   ]
  },
  {
   "cell_type": "code",
   "execution_count": 111,
   "metadata": {
    "collapsed": false
   },
   "outputs": [],
   "source": [
    "db_prop[\"z_max\"] = (db_prop[\"max\"] - db_prop[\"lum\"]) / db_prop[\"contrast\"]\n",
    "db_prop[\"z_min\"] = (db_prop[\"min\"] - db_prop[\"lum\"]) / db_prop[\"contrast\"]\n",
    "i_max = np.max(db_prop[\"z_max\"])\n",
    "i_min = np.min(db_prop[\"z_min\"])\n",
    "# db_prop[\"z_max\"].hist()"
   ]
  },
  {
   "cell_type": "code",
   "execution_count": 114,
   "metadata": {
    "collapsed": false
   },
   "outputs": [
    {
     "name": "stdout",
     "output_type": "stream",
     "text": [
      "mkdir: /Users/jiri/Local/Datasets/SceneStroop/images/../processed: File exists\r\n"
     ]
    }
   ],
   "source": [
    "!mkdir $db_folder_processed\n",
    "for r in range(len(db_prop)):\n",
    "    f = db_prop[\"file\"][r]\n",
    "    fn_src = os.path.join(db_folder_crop, f)\n",
    "    fn_dst = os.path.join(db_folder_processed, f)\n",
    "    im = img_as_float(io.imread(fn_src))\n",
    "    imi = (im - db_prop[\"lum\"][r]) / db_prop[\"contrast\"][r]\n",
    "    imx = (imi - i_min) * 1 / (i_max - i_min)\n",
    "    io.imsave(fn_dst, imx)"
   ]
  },
  {
   "cell_type": "code",
   "execution_count": null,
   "metadata": {
    "collapsed": true
   },
   "outputs": [],
   "source": []
  }
 ],
 "metadata": {
  "anaconda-cloud": {},
  "kernelspec": {
   "display_name": "Python [Root]",
   "language": "python",
   "name": "Python [Root]"
  },
  "language_info": {
   "codemirror_mode": {
    "name": "ipython",
    "version": 2
   },
   "file_extension": ".py",
   "mimetype": "text/x-python",
   "name": "python",
   "nbconvert_exporter": "python",
   "pygments_lexer": "ipython2",
   "version": "2.7.12"
  }
 },
 "nbformat": 4,
 "nbformat_minor": 0
}
